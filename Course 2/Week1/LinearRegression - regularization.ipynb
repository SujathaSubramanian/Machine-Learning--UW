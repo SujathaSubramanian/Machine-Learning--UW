{
 "cells": [
  {
   "cell_type": "markdown",
   "metadata": {},
   "source": [
    "#Regualarized linear model - Ridge regression and lasso\n",
    "\n",
    "##Introduction\n",
    "\n",
    "LASSO, which stands for Least Absolute Shrinkage and Selection Operator, is one of the model complexity control techniques like variable selection and ridge regression. In this notebook we'll demonstrate how to use the glmnet package for LASSO regression. For more information about LASSO you can refer to the LASSO Page.\n",
    "Target audience\n",
    "\n",
    "This notebook is targeted toward data scientists who understand linear regression and want to find out how to fit LASSO regression in R. An operationalization step is also included to show how you can deploy in Azure a web service based on the selected model.\n",
    "Data\n",
    "\n"
   ]
  },
  {
   "cell_type": "code",
   "execution_count": 89,
   "metadata": {
    "collapsed": true
   },
   "outputs": [],
   "source": [
    "import pandas as pd\n",
    "from sklearn import datasets, linear_model\n",
    "import matplotlib.pyplot as plt\n",
    "\n",
    "file_path = 'C:\\\\Users\\\\sujat\\\\OneDrive\\\\Coursera\\\\Projects\\\\blogging\\\\student\\\\'\n"
   ]
  },
  {
   "cell_type": "code",
   "execution_count": null,
   "metadata": {
    "collapsed": true
   },
   "outputs": [],
   "source": [
    "def load_data():\n",
    "    student = pd.read_csv(file_path + \"student.csv\")\n",
    "    return student\n"
   ]
  },
  {
   "cell_type": "code",
   "execution_count": null,
   "metadata": {
    "collapsed": false
   },
   "outputs": [],
   "source": [
    "student = load_data()"
   ]
  },
  {
   "cell_type": "code",
   "execution_count": 119,
   "metadata": {
    "collapsed": false
   },
   "outputs": [],
   "source": [
    "len(student)\n",
    "len(student.columns.tolist())\n",
    "\n",
    "#student.head(1)\n",
    "\n",
    "student_X = student.iloc[:,0:52]\n",
    "student_y = student.iloc[:,52:]\n",
    "\n",
    "\n",
    "#print student_X\n",
    "#print student_y"
   ]
  },
  {
   "cell_type": "code",
   "execution_count": 85,
   "metadata": {
    "collapsed": false
   },
   "outputs": [
    {
     "name": "stdout",
     "output_type": "stream",
     "text": [
      "   age  Medu  Fedu  traveltime.x  studytime.x  failures.x  famrel.x  \\\n",
      "0   15     1     1             2            4           1         3   \n",
      "1   15     1     1             1            2           2         3   \n",
      "2   15     2     2             1            1           0         4   \n",
      "3   15     2     4             1            3           0         4   \n",
      "4   15     3     3             2            3           2         4   \n",
      "\n",
      "   freetime.x  goout.x  Dalc.x       ...        famsup.y_no  famsup.y_yes  \\\n",
      "0           1        2       1       ...                  0             1   \n",
      "1           3        4       2       ...                  0             1   \n",
      "2           3        1       1       ...                  0             1   \n",
      "3           3        2       1       ...                  0             1   \n",
      "4           2        1       2       ...                  0             1   \n",
      "\n",
      "   paid.y_no  paid.y_yes  activities.y_no  activities.y_yes  higher.y_no  \\\n",
      "0          0           1                0                 1            0   \n",
      "1          1           0                1                 0            0   \n",
      "2          1           0                0                 1            0   \n",
      "3          1           0                0                 1            0   \n",
      "4          0           1                0                 1            0   \n",
      "\n",
      "   higher.y_yes  romantic.y_no  romantic.y_yes  \n",
      "0             1              1               0  \n",
      "1             1              0               1  \n",
      "2             1              1               0  \n",
      "3             1              1               0  \n",
      "4             1              0               1  \n",
      "\n",
      "[5 rows x 86 columns]\n"
     ]
    }
   ],
   "source": [
    "#Preprocesing - One hot encoding\n",
    "\n",
    "ohc_all = pd.get_dummies(student_X)\n",
    "ohc_X = pd.concat([ohc_all],axis=1)\n",
    "print ohc_X.head()\n",
    "\n",
    "\n",
    "#print student_X"
   ]
  },
  {
   "cell_type": "code",
   "execution_count": 120,
   "metadata": {
    "collapsed": false
   },
   "outputs": [],
   "source": [
    "from sklearn.cross_validation import train_test_split\n",
    "X_train, X_test, y_train, y_test = train_test_split(\n",
    "   ohc_X, student_y, test_size=0.33, random_state=42)\n",
    "\n",
    "regr = linear_model.LinearRegression()"
   ]
  },
  {
   "cell_type": "code",
   "execution_count": 138,
   "metadata": {
    "collapsed": false
   },
   "outputs": [
    {
     "name": "stdout",
     "output_type": "stream",
     "text": [
      "Residual sum of squares: 2.57\n",
      "Variance score: 0.71\n"
     ]
    }
   ],
   "source": [
    "import numpy as np\n",
    "# Create linear regression object\n",
    "regr = linear_model.LinearRegression()\n",
    "\n",
    "# Train the model using the training sets\n",
    "regr.fit(X_train, y_train)\n",
    "\n",
    "# The coefficients\n",
    "#print('Coefficients: \\n', regr.coef_)\n",
    "# The mean square error\n",
    "print(\"Residual sum of squares: %.2f\"\n",
    "      % np.mean((regr.predict(X_test) - y_test) ** 2))\n",
    "# Explained variance score: 1 is perfect prediction\n",
    "print('Variance score: %.2f' % regr.score(X_test, y_test))\n",
    "\n",
    "#print len(regr.coef_[0])\n"
   ]
  },
  {
   "cell_type": "code",
   "execution_count": 139,
   "metadata": {
    "collapsed": false
   },
   "outputs": [
    {
     "name": "stdout",
     "output_type": "stream",
     "text": [
      "Linear model: 0.735 * G2.y + 0.657 * famrel.y + -0.591 * failures.y + -0.56 * higher.y_no + 0.56 * higher.y_yes + -0.56 * famrel.x + -0.379 * reason_other + -0.378 * guardian.x_father + -0.371 * guardian.y_mother + 0.31 * studytime.x + -0.307 * studytime.y + 0.306 * famsup.x_yes + -0.306 * famsup.x_no + 0.294 * Mjob_at_home + 0.292 * school_GP + -0.292 * school_MS + 0.284 * reason_course + 0.282 * traveltime.x + -0.273 * internet_no + 0.273 * internet_yes + -0.271 * failures.x + -0.257 * health.y + 0.254 * Pstatus_A + -0.254 * Pstatus_T + -0.243 * Mjob_other + 0.229 * health.x + -0.221 * Dalc.y + -0.217 * Fjob_other + -0.211 * activities.y_no + 0.211 * activities.y_yes + 0.207 * famsize_GT3 + -0.207 * famsize_LE3 + 0.206 * guardian.x_mother + 0.205 * famsup.y_no + -0.205 * famsup.y_yes + 0.201 * Dalc.x + 0.198 * guardian.y_father + 0.184 * G1.y + -0.181 * Walc.x + 0.172 * guardian.x_other + 0.172 * guardian.y_other + 0.161 * Walc.y + -0.155 * goout.y + 0.153 * Fjob_health + -0.144 * freetime.x + 0.133 * goout.x + 0.131 * freetime.y + 0.128 * activities.x_no + -0.128 * activities.x_yes + -0.123 * Fjob_services + 0.117 * age + -0.115 * romantic.x_no + 0.115 * romantic.x_yes + 0.111 * reason_home + 0.1 * address_U + -0.1 * address_R + 0.099 * Fjob_at_home + -0.097 * sex_M + 0.097 * sex_F + 0.092 * paid.y_no + -0.092 * paid.y_yes + -0.09 * Fedu + 0.089 * Fjob_teacher + -0.087 * nursery_yes + 0.087 * nursery_no + 0.084 * paid.x_no + -0.084 * paid.x_yes + 0.081 * higher.x_no + -0.081 * higher.x_yes + 0.062 * traveltime.y + 0.06 * G3.x + -0.06 * romantic.y_no + 0.06 * romantic.y_yes + 0.056 * schoolsup.y_no + -0.056 * schoolsup.y_yes + -0.056 * schoolsup.x_yes + 0.056 * schoolsup.x_no + -0.048 * Mjob_services + 0.039 * absences.y + -0.031 * Mjob_health + 0.028 * Medu + 0.027 * Mjob_teacher + -0.022 * absences.x + -0.015 * reason_reputation + -0.006 * G1.x + 0.003 * G2.x\n"
     ]
    }
   ],
   "source": [
    "def print_model(coefs, names = None, sort = False):\n",
    "    if names == None:\n",
    "        names = [\"X%s\" % x for x in range(len(coefs))]\n",
    "    lst = zip(coefs, names)\n",
    "    if sort:\n",
    "        lst = sorted(lst,  key = lambda x:-np.abs(x[0]))\n",
    "    return \" + \".join(\"%s * %s\" % (round(coef, 3), name)\n",
    "                                   for coef, name in lst)\n",
    "\n",
    "names =X_train.columns.tolist()\n",
    "print \"Linear model:\", print_model(regr.coef_[0],names,True)\n",
    "\n"
   ]
  },
  {
   "cell_type": "code",
   "execution_count": 136,
   "metadata": {
    "collapsed": false
   },
   "outputs": [
    {
     "name": "stdout",
     "output_type": "stream",
     "text": [
      " Lasso model:  0.845 * G2.y + 0.133 * G1.y + 0.022 * G3.x + 0.021 * G1.x + -0.001 * absences.x + -0.0 * age + 0.0 * Medu + 0.0 * Fedu + 0.0 * traveltime.x + 0.0 * studytime.x + -0.0 * failures.x + 0.0 * famrel.x + -0.0 * freetime.x + -0.0 * goout.x + -0.0 * Dalc.x + -0.0 * Walc.x + -0.0 * health.x + 0.0 * G2.x + 0.0 * traveltime.y + 0.0 * studytime.y + -0.0 * failures.y + 0.0 * famrel.y + -0.0 * freetime.y + -0.0 * goout.y + -0.0 * Dalc.y + -0.0 * Walc.y + -0.0 * health.y + 0.0 * absences.y + 0.0 * school_GP + -0.0 * school_MS + 0.0 * sex_F + -0.0 * sex_M + -0.0 * address_R + 0.0 * address_U + 0.0 * famsize_GT3 + -0.0 * famsize_LE3 + 0.0 * Pstatus_A + -0.0 * Pstatus_T + 0.0 * Mjob_at_home + -0.0 * Mjob_health + -0.0 * Mjob_other + 0.0 * Mjob_services + 0.0 * Mjob_teacher + 0.0 * Fjob_at_home + 0.0 * Fjob_health + -0.0 * Fjob_other + -0.0 * Fjob_services + 0.0 * Fjob_teacher + 0.0 * reason_course + 0.0 * reason_home + -0.0 * reason_other + -0.0 * reason_reputation + 0.0 * nursery_no + -0.0 * nursery_yes + -0.0 * internet_no + 0.0 * internet_yes + -0.0 * guardian.x_father + 0.0 * guardian.x_mother + 0.0 * guardian.x_other + 0.0 * schoolsup.x_no + -0.0 * schoolsup.x_yes + -0.0 * famsup.x_no + 0.0 * famsup.x_yes + -0.0 * paid.x_no + 0.0 * paid.x_yes + -0.0 * activities.x_no + 0.0 * activities.x_yes + -0.0 * higher.x_no + 0.0 * higher.x_yes + -0.0 * romantic.x_no + 0.0 * romantic.x_yes + -0.0 * guardian.y_father + -0.0 * guardian.y_mother + 0.0 * guardian.y_other + 0.0 * schoolsup.y_no + -0.0 * schoolsup.y_yes + -0.0 * famsup.y_no + 0.0 * famsup.y_yes + 0.0 * paid.y_no + -0.0 * paid.y_yes + -0.0 * activities.y_no + 0.0 * activities.y_yes + -0.0 * higher.y_no + 0.0 * higher.y_yes + -0.0 * romantic.y_no + 0.0 * romantic.y_yes\n"
     ]
    }
   ],
   "source": [
    "#Lasso \n",
    "from sklearn.linear_model import Lasso\n",
    "lasso = Lasso(alpha=.3)\n",
    "lasso.fit(X_train, y_train)\n",
    "  \n",
    "print \"Lasso model: \", print_model(lasso.coef_, names, True)\n"
   ]
  },
  {
   "cell_type": "code",
   "execution_count": 137,
   "metadata": {
    "collapsed": false
   },
   "outputs": [
    {
     "name": "stdout",
     "output_type": "stream",
     "text": [
      "Ridge model: 0.749 * G2.y + -0.465 * failures.y + 0.265 * higher.y_yes + -0.265 * higher.y_no + -0.263 * failures.x + -0.246 * reason_other + -0.232 * school_MS + 0.232 * school_GP + -0.214 * Mjob_other + 0.211 * internet_yes + -0.211 * internet_no + -0.21 * Pstatus_T + 0.21 * Pstatus_A + 0.209 * reason_course + 0.203 * famrel.y + 0.198 * Mjob_at_home + 0.182 * traveltime.x + 0.181 * G1.y + 0.168 * famsize_GT3 + -0.168 * famsize_LE3 + -0.144 * guardian.x_father + -0.139 * guardian.y_mother + 0.139 * traveltime.y + 0.124 * guardian.x_other + 0.124 * guardian.y_other + 0.123 * romantic.x_yes + -0.123 * romantic.x_no + -0.115 * Fjob_other + -0.112 * higher.x_no + 0.112 * higher.x_yes + 0.11 * Fjob_at_home + -0.109 * famrel.x + -0.097 * address_R + 0.097 * address_U + 0.096 * famsup.x_yes + -0.096 * famsup.x_no + -0.093 * activities.y_no + 0.093 * activities.y_yes + -0.092 * sex_M + 0.092 * sex_F + -0.088 * nursery_yes + 0.088 * nursery_no + 0.082 * age + 0.079 * reason_home + -0.072 * Fjob_services + 0.071 * Fjob_health + -0.069 * paid.y_yes + 0.069 * paid.y_no + -0.068 * Dalc.y + 0.063 * paid.x_no + -0.063 * paid.x_yes + -0.062 * freetime.x + -0.056 * health.y + 0.056 * G3.x + 0.053 * freetime.y + 0.051 * romantic.y_yes + -0.051 * romantic.y_no + -0.049 * Fedu + -0.049 * schoolsup.y_yes + 0.049 * schoolsup.y_no + 0.049 * schoolsup.x_no + -0.049 * schoolsup.x_yes + 0.048 * studytime.x + 0.047 * Mjob_teacher + 0.043 * Dalc.x + -0.042 * Walc.x + -0.042 * reason_reputation + 0.034 * absences.y + -0.032 * goout.x + 0.02 * guardian.x_mother + -0.018 * absences.x + -0.018 * Mjob_services + -0.017 * studytime.y + -0.016 * activities.x_yes + 0.016 * activities.x_no + 0.016 * health.x + 0.016 * Walc.y + 0.015 * guardian.y_father + -0.013 * Mjob_health + -0.012 * famsup.y_no + 0.012 * famsup.y_yes + 0.01 * goout.y + -0.008 * G2.x + 0.006 * Fjob_teacher + 0.004 * G1.x + 0.004 * Medu\n"
     ]
    }
   ],
   "source": [
    "#Ridge regression\n",
    "from sklearn.linear_model import Ridge\n",
    "ridge = Ridge(alpha=10)\n",
    "ridge.fit(X_train,y_train)\n",
    "print \"Ridge model:\", print_model(ridge.coef_[0],names,True)"
   ]
  }
 ],
 "metadata": {
  "kernelspec": {
   "display_name": "Python 2",
   "language": "python",
   "name": "python2"
  },
  "language_info": {
   "codemirror_mode": {
    "name": "ipython",
    "version": 2
   },
   "file_extension": ".py",
   "mimetype": "text/x-python",
   "name": "python",
   "nbconvert_exporter": "python",
   "pygments_lexer": "ipython2",
   "version": "2.7.10"
  }
 },
 "nbformat": 4,
 "nbformat_minor": 0
}
